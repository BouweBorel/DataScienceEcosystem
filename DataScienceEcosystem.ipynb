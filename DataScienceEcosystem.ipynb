{
  "metadata": {
    "language_info": {
      "name": ""
    },
    "kernelspec": {
      "name": "python",
      "display_name": "Python (Pyodide)",
      "language": "python"
    }
  },
  "nbformat_minor": 4,
  "nbformat": 4,
  "cells": [
    {
      "cell_type": "markdown",
      "source": "# Data Science Tools and Ecosystem\n",
      "metadata": {}
    },
    {
      "cell_type": "markdown",
      "source": "## This notebook summarizes the Data Science Tools and Ecosystem (by Coursera).",
      "metadata": {}
    },
    {
      "cell_type": "markdown",
      "source": "### Some of the most popular languages used by data scientist are:\n\n1. Python\n2. R\n3. SQL\n",
      "metadata": {}
    },
    {
      "cell_type": "markdown",
      "source": "### Some of the libraries commonly used by data scientists include (but not limited) by:\n\n1. NumPy\n2. Pandas\n3. Matplotlib\n4. TensorFlow",
      "metadata": {}
    },
    {
      "cell_type": "markdown",
      "source": "| Data Science's Tools|\n|---------------------|\n| RStudio             |\n| Apache Spark        |\n| SQL                 |\n| Tableau             |",
      "metadata": {}
    },
    {
      "cell_type": "markdown",
      "source": "### Examples of Arithmetic Expressions in Python",
      "metadata": {}
    },
    {
      "cell_type": "markdown",
      "source": "#### Below are some examples of arithmetic expressions in Python:\n\n1. Addition: 3 + 5\n2. Subtraction: 10 - 7\n3. Multiplication: 4 * 6\n4. Division: 20/4\n5. Exponentiation: 2**3",
      "metadata": {}
    },
    {
      "cell_type": "code",
      "source": "#This is a simple arithmetic expression to multiply and then add integers \n(3*4)+5",
      "metadata": {
        "trusted": true
      },
      "execution_count": null,
      "outputs": []
    },
    {
      "cell_type": "code",
      "source": "# This is an arithmetic expression to convert minutes to hours\n# This expression converts 200 minutes to hours (dividing by 60)\nminutes = 200\nhours = minutes / 60\n",
      "metadata": {
        "trusted": true
      },
      "execution_count": null,
      "outputs": []
    },
    {
      "cell_type": "markdown",
      "source": "**Goals:**\n- List common languages for data science.\n- List libraries used in data science.\n- Introduce key tools for data science.",
      "metadata": {}
    },
    {
      "cell_type": "markdown",
      "source": "**Author:**\nWilifer Rodriguez\n",
      "metadata": {}
    }
  ]
}